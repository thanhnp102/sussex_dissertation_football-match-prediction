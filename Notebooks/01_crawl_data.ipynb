{
 "cells": [
  {
   "cell_type": "markdown",
   "metadata": {},
   "source": [
    "# Crawl data"
   ]
  },
  {
   "cell_type": "markdown",
   "metadata": {},
   "source": [
    "This notebook is for crawling Understat data and saving to files for later uses.\n",
    "\n",
    "Two other data sources, which are Wyscout and football-data.co.uk, are provided as files in CSV format."
   ]
  },
  {
   "cell_type": "code",
   "execution_count": 1,
   "metadata": {},
   "outputs": [],
   "source": [
    "from tqdm import tqdm\n",
    "import pandas as pd"
   ]
  },
  {
   "cell_type": "markdown",
   "metadata": {},
   "source": [
    "## Understat"
   ]
  },
  {
   "cell_type": "markdown",
   "metadata": {},
   "source": [
    "Collect the Expected Goal metrics from Understat for matches in from seasons 2017/2018 of top 5 European leagues: England's Premier League, Spain's LaLiga, Italia's Serie A, France's Ligue 1, and Germany's Bundesliga."
   ]
  },
  {
   "cell_type": "code",
   "execution_count": 2,
   "metadata": {},
   "outputs": [],
   "source": [
    "# %pip install soccerdata"
   ]
  },
  {
   "cell_type": "code",
   "execution_count": 3,
   "metadata": {},
   "outputs": [
    {
     "data": {
      "text/html": [
       "<pre style=\"white-space:pre;overflow-x:auto;line-height:normal;font-family:Menlo,'DejaVu Sans Mono',consolas,'Courier New',monospace\"><span style=\"color: #7fbfbf; text-decoration-color: #7fbfbf\">[08/03/24 23:57:59] </span><span style=\"color: #000080; text-decoration-color: #000080\">INFO    </span> No custom team name replacements found. You can configure these in       <a href=\"file:///opt/homebrew/Caskroom/miniforge/base/envs/sussex_data_science/lib/python3.12/site-packages/soccerdata/_config.py\" target=\"_blank\"><span style=\"color: #7f7f7f; text-decoration-color: #7f7f7f\">_config.py</span></a><span style=\"color: #7f7f7f; text-decoration-color: #7f7f7f\">:</span><a href=\"file:///opt/homebrew/Caskroom/miniforge/base/envs/sussex_data_science/lib/python3.12/site-packages/soccerdata/_config.py#87\" target=\"_blank\"><span style=\"color: #7f7f7f; text-decoration-color: #7f7f7f\">87</span></a>\n",
       "<span style=\"color: #7fbfbf; text-decoration-color: #7fbfbf\">                    </span>         <span style=\"color: #800080; text-decoration-color: #800080\">/Users/thanhnguyen/soccerdata/config/</span><span style=\"color: #ff00ff; text-decoration-color: #ff00ff\">teamname_replacements.json.</span>         <span style=\"color: #7f7f7f; text-decoration-color: #7f7f7f\">             </span>\n",
       "</pre>\n"
      ],
      "text/plain": [
       "\u001b[2;36m[08/03/24 23:57:59]\u001b[0m\u001b[2;36m \u001b[0m\u001b[34mINFO    \u001b[0m No custom team name replacements found. You can configure these in       \u001b]8;id=567876;file:///opt/homebrew/Caskroom/miniforge/base/envs/sussex_data_science/lib/python3.12/site-packages/soccerdata/_config.py\u001b\\\u001b[2m_config.py\u001b[0m\u001b]8;;\u001b\\\u001b[2m:\u001b[0m\u001b]8;id=246765;file:///opt/homebrew/Caskroom/miniforge/base/envs/sussex_data_science/lib/python3.12/site-packages/soccerdata/_config.py#87\u001b\\\u001b[2m87\u001b[0m\u001b]8;;\u001b\\\n",
       "\u001b[2;36m                    \u001b[0m         \u001b[35m/Users/thanhnguyen/soccerdata/config/\u001b[0m\u001b[95mteamname_replacements.json.\u001b[0m         \u001b[2m             \u001b[0m\n"
      ]
     },
     "metadata": {},
     "output_type": "display_data"
    },
    {
     "data": {
      "text/html": [
       "<pre style=\"white-space:pre;overflow-x:auto;line-height:normal;font-family:Menlo,'DejaVu Sans Mono',consolas,'Courier New',monospace\"><span style=\"color: #7fbfbf; text-decoration-color: #7fbfbf\">                    </span><span style=\"color: #000080; text-decoration-color: #000080\">INFO    </span> No custom league dict found. You can configure additional leagues in    <a href=\"file:///opt/homebrew/Caskroom/miniforge/base/envs/sussex_data_science/lib/python3.12/site-packages/soccerdata/_config.py\" target=\"_blank\"><span style=\"color: #7f7f7f; text-decoration-color: #7f7f7f\">_config.py</span></a><span style=\"color: #7f7f7f; text-decoration-color: #7f7f7f\">:</span><a href=\"file:///opt/homebrew/Caskroom/miniforge/base/envs/sussex_data_science/lib/python3.12/site-packages/soccerdata/_config.py#182\" target=\"_blank\"><span style=\"color: #7f7f7f; text-decoration-color: #7f7f7f\">182</span></a>\n",
       "<span style=\"color: #7fbfbf; text-decoration-color: #7fbfbf\">                    </span>         <span style=\"color: #800080; text-decoration-color: #800080\">/Users/thanhnguyen/soccerdata/config/</span><span style=\"color: #ff00ff; text-decoration-color: #ff00ff\">league_dict.json.</span>                  <span style=\"color: #7f7f7f; text-decoration-color: #7f7f7f\">              </span>\n",
       "</pre>\n"
      ],
      "text/plain": [
       "\u001b[2;36m                   \u001b[0m\u001b[2;36m \u001b[0m\u001b[34mINFO    \u001b[0m No custom league dict found. You can configure additional leagues in    \u001b]8;id=264099;file:///opt/homebrew/Caskroom/miniforge/base/envs/sussex_data_science/lib/python3.12/site-packages/soccerdata/_config.py\u001b\\\u001b[2m_config.py\u001b[0m\u001b]8;;\u001b\\\u001b[2m:\u001b[0m\u001b]8;id=562019;file:///opt/homebrew/Caskroom/miniforge/base/envs/sussex_data_science/lib/python3.12/site-packages/soccerdata/_config.py#182\u001b\\\u001b[2m182\u001b[0m\u001b]8;;\u001b\\\n",
       "\u001b[2;36m                    \u001b[0m         \u001b[35m/Users/thanhnguyen/soccerdata/config/\u001b[0m\u001b[95mleague_dict.json.\u001b[0m                  \u001b[2m              \u001b[0m\n"
      ]
     },
     "metadata": {},
     "output_type": "display_data"
    },
    {
     "data": {
      "text/plain": [
       "['ENG-Premier League',\n",
       " 'ESP-La Liga',\n",
       " 'FRA-Ligue 1',\n",
       " 'GER-Bundesliga',\n",
       " 'ITA-Serie A']"
      ]
     },
     "execution_count": 3,
     "metadata": {},
     "output_type": "execute_result"
    }
   ],
   "source": [
    "import soccerdata as sd\n",
    "\n",
    "sd.Understat.available_leagues()"
   ]
  },
  {
   "cell_type": "code",
   "execution_count": 4,
   "metadata": {},
   "outputs": [
    {
     "data": {
      "text/html": [
       "<pre style=\"white-space:pre;overflow-x:auto;line-height:normal;font-family:Menlo,'DejaVu Sans Mono',consolas,'Courier New',monospace\"><span style=\"color: #7fbfbf; text-decoration-color: #7fbfbf\">                    </span><span style=\"color: #000080; text-decoration-color: #000080\">INFO    </span> Saving cached data to <span style=\"color: #800080; text-decoration-color: #800080\">/Users/thanhnguyen/soccerdata/data/</span><span style=\"color: #ff00ff; text-decoration-color: #ff00ff\">Understat</span>       <a href=\"file:///opt/homebrew/Caskroom/miniforge/base/envs/sussex_data_science/lib/python3.12/site-packages/soccerdata/_common.py\" target=\"_blank\"><span style=\"color: #7f7f7f; text-decoration-color: #7f7f7f\">_common.py</span></a><span style=\"color: #7f7f7f; text-decoration-color: #7f7f7f\">:</span><a href=\"file:///opt/homebrew/Caskroom/miniforge/base/envs/sussex_data_science/lib/python3.12/site-packages/soccerdata/_common.py#92\" target=\"_blank\"><span style=\"color: #7f7f7f; text-decoration-color: #7f7f7f\">92</span></a>\n",
       "</pre>\n"
      ],
      "text/plain": [
       "\u001b[2;36m                   \u001b[0m\u001b[2;36m \u001b[0m\u001b[34mINFO    \u001b[0m Saving cached data to \u001b[35m/Users/thanhnguyen/soccerdata/data/\u001b[0m\u001b[95mUnderstat\u001b[0m       \u001b]8;id=179389;file:///opt/homebrew/Caskroom/miniforge/base/envs/sussex_data_science/lib/python3.12/site-packages/soccerdata/_common.py\u001b\\\u001b[2m_common.py\u001b[0m\u001b]8;;\u001b\\\u001b[2m:\u001b[0m\u001b]8;id=270564;file:///opt/homebrew/Caskroom/miniforge/base/envs/sussex_data_science/lib/python3.12/site-packages/soccerdata/_common.py#92\u001b\\\u001b[2m92\u001b[0m\u001b]8;;\u001b\\\n"
      ]
     },
     "metadata": {},
     "output_type": "display_data"
    }
   ],
   "source": [
    "import soccerdata as sd\n",
    "\n",
    "ud = sd.Understat(leagues=sd.Understat.available_leagues(), seasons=[\"2017/2018\"])"
   ]
  },
  {
   "cell_type": "code",
   "execution_count": 5,
   "metadata": {},
   "outputs": [
    {
     "data": {
      "text/html": [
       "<div>\n",
       "<style scoped>\n",
       "    .dataframe tbody tr th:only-of-type {\n",
       "        vertical-align: middle;\n",
       "    }\n",
       "\n",
       "    .dataframe tbody tr th {\n",
       "        vertical-align: top;\n",
       "    }\n",
       "\n",
       "    .dataframe thead th {\n",
       "        text-align: right;\n",
       "    }\n",
       "</style>\n",
       "<table border=\"1\" class=\"dataframe\">\n",
       "  <thead>\n",
       "    <tr style=\"text-align: right;\">\n",
       "      <th></th>\n",
       "      <th></th>\n",
       "      <th></th>\n",
       "      <th>date</th>\n",
       "      <th>home_team</th>\n",
       "      <th>away_team</th>\n",
       "      <th>home_ud_xg</th>\n",
       "      <th>away_ud_xg</th>\n",
       "    </tr>\n",
       "    <tr>\n",
       "      <th>league</th>\n",
       "      <th>season</th>\n",
       "      <th>game</th>\n",
       "      <th></th>\n",
       "      <th></th>\n",
       "      <th></th>\n",
       "      <th></th>\n",
       "      <th></th>\n",
       "    </tr>\n",
       "  </thead>\n",
       "  <tbody>\n",
       "    <tr>\n",
       "      <th rowspan=\"5\" valign=\"top\">ENG-Premier League</th>\n",
       "      <th rowspan=\"5\" valign=\"top\">1718</th>\n",
       "      <th>2017-08-11 Arsenal-Leicester</th>\n",
       "      <td>2017-08-11</td>\n",
       "      <td>Arsenal</td>\n",
       "      <td>Leicester</td>\n",
       "      <td>2.54329</td>\n",
       "      <td>1.46495</td>\n",
       "    </tr>\n",
       "    <tr>\n",
       "      <th>2017-08-12 Brighton-Manchester City</th>\n",
       "      <td>2017-08-12</td>\n",
       "      <td>Brighton</td>\n",
       "      <td>Manchester City</td>\n",
       "      <td>0.276343</td>\n",
       "      <td>1.86751</td>\n",
       "    </tr>\n",
       "    <tr>\n",
       "      <th>2017-08-12 Chelsea-Burnley</th>\n",
       "      <td>2017-08-12</td>\n",
       "      <td>Chelsea</td>\n",
       "      <td>Burnley</td>\n",
       "      <td>1.35651</td>\n",
       "      <td>0.564237</td>\n",
       "    </tr>\n",
       "    <tr>\n",
       "      <th>2017-08-12 Crystal Palace-Huddersfield</th>\n",
       "      <td>2017-08-12</td>\n",
       "      <td>Crystal Palace</td>\n",
       "      <td>Huddersfield</td>\n",
       "      <td>0.988934</td>\n",
       "      <td>1.73657</td>\n",
       "    </tr>\n",
       "    <tr>\n",
       "      <th>2017-08-12 Everton-Stoke</th>\n",
       "      <td>2017-08-12</td>\n",
       "      <td>Everton</td>\n",
       "      <td>Stoke</td>\n",
       "      <td>0.720574</td>\n",
       "      <td>0.27644</td>\n",
       "    </tr>\n",
       "  </tbody>\n",
       "</table>\n",
       "</div>"
      ],
      "text/plain": [
       "                                                                        date  \\\n",
       "league             season game                                                 \n",
       "ENG-Premier League 1718   2017-08-11 Arsenal-Leicester            2017-08-11   \n",
       "                          2017-08-12 Brighton-Manchester City     2017-08-12   \n",
       "                          2017-08-12 Chelsea-Burnley              2017-08-12   \n",
       "                          2017-08-12 Crystal Palace-Huddersfield  2017-08-12   \n",
       "                          2017-08-12 Everton-Stoke                2017-08-12   \n",
       "\n",
       "                                                                       home_team  \\\n",
       "league             season game                                                     \n",
       "ENG-Premier League 1718   2017-08-11 Arsenal-Leicester                   Arsenal   \n",
       "                          2017-08-12 Brighton-Manchester City           Brighton   \n",
       "                          2017-08-12 Chelsea-Burnley                     Chelsea   \n",
       "                          2017-08-12 Crystal Palace-Huddersfield  Crystal Palace   \n",
       "                          2017-08-12 Everton-Stoke                       Everton   \n",
       "\n",
       "                                                                        away_team  \\\n",
       "league             season game                                                      \n",
       "ENG-Premier League 1718   2017-08-11 Arsenal-Leicester                  Leicester   \n",
       "                          2017-08-12 Brighton-Manchester City     Manchester City   \n",
       "                          2017-08-12 Chelsea-Burnley                      Burnley   \n",
       "                          2017-08-12 Crystal Palace-Huddersfield     Huddersfield   \n",
       "                          2017-08-12 Everton-Stoke                          Stoke   \n",
       "\n",
       "                                                                  home_ud_xg  \\\n",
       "league             season game                                                 \n",
       "ENG-Premier League 1718   2017-08-11 Arsenal-Leicester               2.54329   \n",
       "                          2017-08-12 Brighton-Manchester City       0.276343   \n",
       "                          2017-08-12 Chelsea-Burnley                 1.35651   \n",
       "                          2017-08-12 Crystal Palace-Huddersfield    0.988934   \n",
       "                          2017-08-12 Everton-Stoke                  0.720574   \n",
       "\n",
       "                                                                  away_ud_xg  \n",
       "league             season game                                                \n",
       "ENG-Premier League 1718   2017-08-11 Arsenal-Leicester               1.46495  \n",
       "                          2017-08-12 Brighton-Manchester City        1.86751  \n",
       "                          2017-08-12 Chelsea-Burnley                0.564237  \n",
       "                          2017-08-12 Crystal Palace-Huddersfield     1.73657  \n",
       "                          2017-08-12 Everton-Stoke                   0.27644  "
      ]
     },
     "execution_count": 5,
     "metadata": {},
     "output_type": "execute_result"
    }
   ],
   "source": [
    "ud_data = ud.read_team_match_stats()\n",
    "ud_data = ud_data[[\"date\",\"home_team\",\"away_team\",\"home_xg\",\"away_xg\"]]\n",
    "ud_data[\"date\"] = ud_data[\"date\"].dt.date\n",
    "ud_data.rename(columns={\"home_xg\":\"home_ud_xg\",\"away_xg\":\"away_ud_xg\"},inplace=True)\n",
    "ud_data.head()"
   ]
  },
  {
   "cell_type": "code",
   "execution_count": 6,
   "metadata": {},
   "outputs": [
    {
     "name": "stdout",
     "output_type": "stream",
     "text": [
      "<class 'pandas.core.frame.DataFrame'>\n",
      "MultiIndex: 1826 entries, ('ENG-Premier League', '1718', '2017-08-11 Arsenal-Leicester') to ('ITA-Serie A', '1718', '2018-05-20 Udinese-Bologna')\n",
      "Data columns (total 5 columns):\n",
      " #   Column      Non-Null Count  Dtype  \n",
      "---  ------      --------------  -----  \n",
      " 0   date        1826 non-null   object \n",
      " 1   home_team   1826 non-null   string \n",
      " 2   away_team   1826 non-null   string \n",
      " 3   home_ud_xg  1826 non-null   Float64\n",
      " 4   away_ud_xg  1826 non-null   Float64\n",
      "dtypes: Float64(2), object(1), string(2)\n",
      "memory usage: 161.3+ KB\n"
     ]
    }
   ],
   "source": [
    "ud_data.info()"
   ]
  },
  {
   "cell_type": "code",
   "execution_count": 7,
   "metadata": {},
   "outputs": [],
   "source": [
    "ud_data.to_csv('../Data/Understat/ud_data.csv', index=False)"
   ]
  },
  {
   "cell_type": "code",
   "execution_count": null,
   "metadata": {},
   "outputs": [],
   "source": []
  }
 ],
 "metadata": {
  "kernelspec": {
   "display_name": "sussex_data_science",
   "language": "python",
   "name": "python3"
  },
  "language_info": {
   "codemirror_mode": {
    "name": "ipython",
    "version": 3
   },
   "file_extension": ".py",
   "mimetype": "text/x-python",
   "name": "python",
   "nbconvert_exporter": "python",
   "pygments_lexer": "ipython3",
   "version": "3.12.4"
  }
 },
 "nbformat": 4,
 "nbformat_minor": 2
}
